{
 "cells": [
  {
   "cell_type": "code",
   "execution_count": null,
   "id": "initial_id",
   "metadata": {
    "collapsed": true,
    "ExecuteTime": {
     "end_time": "2024-04-02T11:12:51.883965Z",
     "start_time": "2024-04-02T11:12:51.876337Z"
    }
   },
   "outputs": [],
   "source": []
  },
  {
   "cell_type": "code",
   "outputs": [],
   "source": [
    "import numpy as np\n",
    "import pandas as pd\n",
    "\n",
    "\n",
    "data = pd.read_csv('C:/Users/lisia/Downloads/Laptop_price.csv')\n",
    "\n",
    "storage_capacity_values = data['Storage_Capacity'].values\n",
    "processor_speed_values = data['Processor_Speed'].values\n",
    "screen_size_values = data['Screen_Size'].values\n",
    "\n",
    "X = []\n",
    "\n",
    "for i in range(len(storage_capacity_values)):\n",
    "    X.append([storage_capacity_values[i], processor_speed_values[i], screen_size_values[i]])\n",
    "\n",
    "X = np.array(X)\n",
    "X = (X - X.mean()) / X.std()\n",
    "\n",
    "X_train = X[:700]\n",
    "X_test = X[-300:]\n",
    "\n",
    "price_values = data['Price'].values\n",
    "\n",
    "# определяем количество групп и диапазон\n",
    "num_groups = 7\n",
    "max_val = 35000\n",
    "min_val = 7000\n",
    "\n",
    "y = []\n",
    "\n",
    "price_bins = np.linspace(min_val, max_val, num_groups + 1)\n",
    "\n",
    "\n",
    "for price in price_values:\n",
    "    group_index = np.argmax(price_bins > price) - 1\n",
    "    group_vector = [0] * num_groups\n",
    "    group_vector[group_index] = 1\n",
    "    y.append(group_vector)\n",
    "\n",
    "y = np.array(y)\n",
    "\n",
    "# Удаляем столбцы, где все элементы равны 0\n",
    "y = y[:, ~np.all(y == 0, axis=0)]\n",
    "\n",
    "\n",
    "y_train = y[:700]\n",
    "y_test = y[-300:]\n",
    "\n",
    "for x_val, y_val in zip(X_train, y_train):\n",
    "    print(x_val, y_val)\n"
   ],
   "metadata": {
    "collapsed": false
   },
   "id": "574da70d35b1db50",
   "execution_count": null
  },
  {
   "cell_type": "code",
   "outputs": [
    {
     "name": "stdout",
     "output_type": "stream",
     "text": [
      "Training complete!\n"
     ]
    }
   ],
   "source": [
    "learning_rate = 0.5\n",
    "epochs = 2000\n",
    "\n",
    "def sigmoid(x):\n",
    "    return 1 / (1 + np.exp(-x))\n",
    "\n",
    "def sigmoid_derivative(x):\n",
    "    return x * (1 - x)\n",
    "\n",
    "def initialize_weights_and_biases(layer_sizes):\n",
    "    np.random.seed(1)\n",
    "    num_layers = len(layer_sizes)\n",
    "    weights = []\n",
    "    biases = []\n",
    "    for i in range(1, num_layers):\n",
    "        weights.append(np.random.uniform(size=(layer_sizes[i - 1], layer_sizes[i])))\n",
    "        biases.append(np.random.uniform(size=(1, layer_sizes[i])))\n",
    "    return weights, biases\n",
    "\n",
    "\n",
    "def forward_propagation(X, weights, biases):\n",
    "    num_layers = len(weights) + 1\n",
    "    layer_outputs = [X]\n",
    "    for i in range(num_layers - 1):\n",
    "        layer_input = np.dot(layer_outputs[-1], weights[i]) + biases[i]\n",
    "        layer_output = sigmoid(layer_input)\n",
    "        layer_outputs.append(layer_output)\n",
    "    return layer_outputs\n",
    "\n",
    "\n",
    "def backward_propagation(X, y, layer_outputs, weights, biases, learning_rate):\n",
    "    num_layers = len(weights)\n",
    "    num_samples = X.shape[0]\n",
    "    output_layer_output = layer_outputs[-1]\n",
    "    output_error = y - output_layer_output\n",
    "    output_delta = output_error * sigmoid_derivative(output_layer_output)\n",
    "    for i in range(num_layers - 1, -1, -1):\n",
    "        if i == num_layers - 1:\n",
    "            layer_delta = output_delta\n",
    "        else:\n",
    "            layer_error = layer_delta.dot(weights[i + 1].T)\n",
    "            layer_delta = layer_error * sigmoid_derivative(layer_outputs[i + 1])\n",
    "        weights[i] += layer_outputs[i].T.dot(layer_delta) * learning_rate / num_samples\n",
    "        biases[i] += np.sum(layer_delta, axis=0, keepdims=True) * learning_rate / num_samples\n",
    "    return weights, biases\n",
    "\n",
    "\n",
    "def train_network(X, y, layer_sizes, learning_rate, epochs):\n",
    "    weights, biases = initialize_weights_and_biases(layer_sizes)\n",
    "    for epoch in range(epochs):\n",
    "        layer_outputs = forward_propagation(X, weights, biases)\n",
    "        weights, biases = backward_propagation(X, y, layer_outputs, weights, biases, learning_rate)\n",
    "    print(\"Training complete!\")\n",
    "    return weights, biases\n",
    "\n",
    "layer_sizes = [X.shape[1], 10, y.shape[1]]\n",
    "\n",
    "weights, biases = train_network(X_train, y_train, layer_sizes, learning_rate, epochs)"
   ],
   "metadata": {
    "collapsed": false,
    "ExecuteTime": {
     "end_time": "2024-04-02T12:40:53.475014Z",
     "start_time": "2024-04-02T12:40:53.199407Z"
    }
   },
   "id": "c667dc30aeeaa94e",
   "execution_count": 140
  },
  {
   "cell_type": "code",
   "outputs": [
    {
     "name": "stdout",
     "output_type": "stream",
     "text": [
      "[105, 0, 96, 0, 98]\n",
      "[1, 0, 0, 0, 0]\n",
      "[0, 1, 0, 0, 0]\n",
      "Precision: 0.99, Recall: 1.0\n",
      "Precision: 0, Recall: 0.0\n",
      "Precision: 1.0, Recall: 1.0\n",
      "Precision: 0, Recall: 0\n",
      "Precision: 1.0, Recall: 1.0\n"
     ]
    }
   ],
   "source": [
    "def predict(X, price_values, weights, biases):\n",
    "    layer_outputs = forward_propagation(X, weights, biases)\n",
    "    predictions = np.argmax(layer_outputs[-1], axis=1)\n",
    "    length = (max_val - min_val) / num_groups\n",
    "    start = predictions * length + min_val\n",
    "    end = (predictions + 1) * length + min_val\n",
    "    result = np.column_stack((price_values, start, end))\n",
    "    return predictions, result\n",
    "\n",
    "# Функция для вычисления Precision и Recall для каждой компоненты\n",
    "def calculate_precision_recall(tps, fps, fns):\n",
    "    precisions, recalls = [], []\n",
    "    for tp, fp, fn in zip(tps, fps, fns):\n",
    "        precision = tp / (tp + fp) if (tp + fp) > 0 else 0\n",
    "        recall = tp / (tp + fn) if (tp + fn) > 0 else 0\n",
    "        precisions.append(precision)\n",
    "        recalls.append(recall)\n",
    "    return precisions, recalls\n",
    "\n",
    "predictions, result = predict(X_test, price_values[-300:], weights, biases)\n",
    "\n",
    "predictions_array = np.zeros((len(predictions), y.shape[1]), dtype=int)\n",
    "\n",
    "for i, pred in enumerate(predictions):\n",
    "    predictions_array[i, pred] = 1\n",
    "\n",
    "# Функция для вычисления терминов для каждой компоненты\n",
    "def calculate_terms(predicted, actual):\n",
    "    tps, fps, tns, fns = [], [], [], []\n",
    "    for i in range(predicted.shape[1]):\n",
    "        tp = sum((predicted[:, i] == 1) & (actual[:, i] == 1))\n",
    "        fp = sum((predicted[:, i] == 1) & (actual[:, i] == 0))\n",
    "        tn = sum((predicted[:, i] == 0) & (actual[:, i] == 0))\n",
    "        fn = sum((predicted[:, i] == 0) & (actual[:, i] == 1))\n",
    "        tps.append(tp)\n",
    "        fps.append(fp)\n",
    "        tns.append(tn)\n",
    "        fns.append(fn)\n",
    "    return tps, fps, tns, fns\n",
    "\n",
    "\n",
    "# Вызываем функцию для вычисления терминов\n",
    "tps, fps, tns, fns = calculate_terms(predictions_array, y_test)\n",
    "print(tps)\n",
    "print(fps)\n",
    "print(fns)\n",
    "\n",
    "\n",
    "# Вызываем функцию для вычисления Precision и Recall\n",
    "precisions, recalls = calculate_precision_recall(tps, fps, fns)\n",
    "\n",
    "# Выводим результаты\n",
    "for i in range(len(precisions)):\n",
    "    print(f\"Precision: {round(precisions[i], 2)}, Recall: {recalls[i]}\")\n"
   ],
   "metadata": {
    "collapsed": false,
    "ExecuteTime": {
     "end_time": "2024-04-02T12:40:54.245790Z",
     "start_time": "2024-04-02T12:40:54.237339Z"
    }
   },
   "id": "d9a379dca1266bbf",
   "execution_count": 141
  },
  {
   "cell_type": "code",
   "outputs": [],
   "source": [],
   "metadata": {
    "collapsed": false,
    "ExecuteTime": {
     "end_time": "2024-04-02T11:42:03.224217Z",
     "start_time": "2024-04-02T11:42:03.222504Z"
    }
   },
   "id": "219a83462353bfa",
   "execution_count": 55
  }
 ],
 "metadata": {
  "kernelspec": {
   "display_name": "Python 3",
   "language": "python",
   "name": "python3"
  },
  "language_info": {
   "codemirror_mode": {
    "name": "ipython",
    "version": 2
   },
   "file_extension": ".py",
   "mimetype": "text/x-python",
   "name": "python",
   "nbconvert_exporter": "python",
   "pygments_lexer": "ipython2",
   "version": "2.7.6"
  }
 },
 "nbformat": 4,
 "nbformat_minor": 5
}
